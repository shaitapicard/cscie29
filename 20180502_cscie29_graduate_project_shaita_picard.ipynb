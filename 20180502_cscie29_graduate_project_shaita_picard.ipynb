{
 "cells": [
  {
   "cell_type": "markdown",
   "metadata": {},
   "source": [
    "# Predicting Overall Survival on TCGA Datasets Through Supervised Machine Learning Models\n",
    "### Shaita Picard\n",
    "### May 2, 2018"
   ]
  },
  {
   "cell_type": "code",
   "execution_count": 258,
   "metadata": {
    "collapsed": true
   },
   "outputs": [],
   "source": [
    "# import required modules\n",
    "import pandas as pd\n",
    "import numpy as np\n",
    "from sklearn.model_selection import train_test_split\n",
    "from sklearn.naive_bayes import GaussianNB\n",
    "from sklearn.tree import DecisionTreeClassifier\n",
    "from sklearn.metrics import accuracy_score\n",
    "from sklearn.metrics import classification_report\n",
    "from sklearn.metrics import confusion_matrix\n",
    "import itertools\n",
    "import matplotlib.pyplot as plt\n",
    "from lifelines.estimation import KaplanMeierFitter"
   ]
  },
  {
   "cell_type": "markdown",
   "metadata": {},
   "source": [
    "The data used in this project was exported directly from the GDC Portal of The National Cancer Institute (NCI) (https://portal.gdc.cancer.gov/repository). This portal provides a repository of over 50 different primary cancer types and publicly available data for individuals affected by these cancers. For this particular project, I have selected just 3 different cancer types from the TCGA project on which to explore supervised machine learning techniques to predict survival based solely on clinical characteristics: Lung, Kidney, and Colorectal. The GDC export packages the selected cancer types into one folder. "
   ]
  },
  {
   "cell_type": "code",
   "execution_count": 259,
   "metadata": {
    "collapsed": true
   },
   "outputs": [],
   "source": [
    "# read in the required datasets\n",
    "clinical = pd.read_csv(\"./clinical.cart.2018-04-30/clinical.tsv\",sep=\"\\t\")"
   ]
  },
  {
   "cell_type": "markdown",
   "metadata": {
    "slideshow": {
     "slide_type": "subslide"
    }
   },
   "source": [
    "It's always good practice to start by looking at your data and getting a sense of what's in there."
   ]
  },
  {
   "cell_type": "code",
   "execution_count": 260,
   "metadata": {},
   "outputs": [
    {
     "data": {
      "text/html": [
       "<div>\n",
       "<style scoped>\n",
       "    .dataframe tbody tr th:only-of-type {\n",
       "        vertical-align: middle;\n",
       "    }\n",
       "\n",
       "    .dataframe tbody tr th {\n",
       "        vertical-align: top;\n",
       "    }\n",
       "\n",
       "    .dataframe thead th {\n",
       "        text-align: right;\n",
       "    }\n",
       "</style>\n",
       "<table border=\"1\" class=\"dataframe\">\n",
       "  <thead>\n",
       "    <tr style=\"text-align: right;\">\n",
       "      <th></th>\n",
       "      <th>case_id</th>\n",
       "      <th>submitter_id</th>\n",
       "      <th>project_id</th>\n",
       "      <th>gender</th>\n",
       "      <th>year_of_birth</th>\n",
       "      <th>race</th>\n",
       "      <th>ethnicity</th>\n",
       "      <th>year_of_death</th>\n",
       "      <th>classification_of_tumor</th>\n",
       "      <th>last_known_disease_status</th>\n",
       "      <th>...</th>\n",
       "      <th>tumor_grade</th>\n",
       "      <th>tissue_or_organ_of_origin</th>\n",
       "      <th>days_to_birth</th>\n",
       "      <th>progression_or_recurrence</th>\n",
       "      <th>prior_malignancy</th>\n",
       "      <th>site_of_resection_or_biopsy</th>\n",
       "      <th>days_to_last_follow_up</th>\n",
       "      <th>therapeutic_agents</th>\n",
       "      <th>treatment_intent_type</th>\n",
       "      <th>treatment_or_therapy</th>\n",
       "    </tr>\n",
       "  </thead>\n",
       "  <tbody>\n",
       "    <tr>\n",
       "      <th>0</th>\n",
       "      <td>d9121e5a-88f2-47a6-a0b1-25735c209e54</td>\n",
       "      <td>TCGA-AH-6644</td>\n",
       "      <td>TCGA-READ</td>\n",
       "      <td>male</td>\n",
       "      <td>1937</td>\n",
       "      <td>white</td>\n",
       "      <td>not reported</td>\n",
       "      <td>--</td>\n",
       "      <td>not reported</td>\n",
       "      <td>not reported</td>\n",
       "      <td>...</td>\n",
       "      <td>not reported</td>\n",
       "      <td>C19.9</td>\n",
       "      <td>-26892.0</td>\n",
       "      <td>not reported</td>\n",
       "      <td>not reported</td>\n",
       "      <td>C19.9</td>\n",
       "      <td>838.0</td>\n",
       "      <td>--</td>\n",
       "      <td>--</td>\n",
       "      <td>--</td>\n",
       "    </tr>\n",
       "    <tr>\n",
       "      <th>1</th>\n",
       "      <td>c69dec57-7a84-481b-bcfe-61a771d0a9d1</td>\n",
       "      <td>TCGA-AG-3602</td>\n",
       "      <td>TCGA-READ</td>\n",
       "      <td>female</td>\n",
       "      <td>1941</td>\n",
       "      <td>not reported</td>\n",
       "      <td>not reported</td>\n",
       "      <td>--</td>\n",
       "      <td>not reported</td>\n",
       "      <td>not reported</td>\n",
       "      <td>...</td>\n",
       "      <td>not reported</td>\n",
       "      <td>C19.9</td>\n",
       "      <td>-24350.0</td>\n",
       "      <td>not reported</td>\n",
       "      <td>not reported</td>\n",
       "      <td>C19.9</td>\n",
       "      <td>0.0</td>\n",
       "      <td>--</td>\n",
       "      <td>--</td>\n",
       "      <td>--</td>\n",
       "    </tr>\n",
       "    <tr>\n",
       "      <th>2</th>\n",
       "      <td>3f10de1e-c8ce-415e-b4e1-e50901686a2f</td>\n",
       "      <td>TCGA-DT-5265</td>\n",
       "      <td>TCGA-READ</td>\n",
       "      <td>male</td>\n",
       "      <td>1959</td>\n",
       "      <td>asian</td>\n",
       "      <td>not hispanic or latino</td>\n",
       "      <td>--</td>\n",
       "      <td>not reported</td>\n",
       "      <td>not reported</td>\n",
       "      <td>...</td>\n",
       "      <td>not reported</td>\n",
       "      <td>C20.9</td>\n",
       "      <td>-18669.0</td>\n",
       "      <td>not reported</td>\n",
       "      <td>not reported</td>\n",
       "      <td>C20.9</td>\n",
       "      <td>384.0</td>\n",
       "      <td>--</td>\n",
       "      <td>--</td>\n",
       "      <td>--</td>\n",
       "    </tr>\n",
       "    <tr>\n",
       "      <th>3</th>\n",
       "      <td>0b6b1937-4024-4f2c-aeca-46387277755f</td>\n",
       "      <td>TCGA-EF-5830</td>\n",
       "      <td>TCGA-READ</td>\n",
       "      <td>male</td>\n",
       "      <td>1956</td>\n",
       "      <td>white</td>\n",
       "      <td>not hispanic or latino</td>\n",
       "      <td>--</td>\n",
       "      <td>not reported</td>\n",
       "      <td>not reported</td>\n",
       "      <td>...</td>\n",
       "      <td>not reported</td>\n",
       "      <td>C20.9</td>\n",
       "      <td>-19802.0</td>\n",
       "      <td>not reported</td>\n",
       "      <td>not reported</td>\n",
       "      <td>C20.9</td>\n",
       "      <td>106.0</td>\n",
       "      <td>--</td>\n",
       "      <td>--</td>\n",
       "      <td>--</td>\n",
       "    </tr>\n",
       "    <tr>\n",
       "      <th>4</th>\n",
       "      <td>85947797-54b8-44fb-910b-5cd689542994</td>\n",
       "      <td>TCGA-F5-6571</td>\n",
       "      <td>TCGA-READ</td>\n",
       "      <td>female</td>\n",
       "      <td>1949</td>\n",
       "      <td>white</td>\n",
       "      <td>not hispanic or latino</td>\n",
       "      <td>--</td>\n",
       "      <td>not reported</td>\n",
       "      <td>not reported</td>\n",
       "      <td>...</td>\n",
       "      <td>not reported</td>\n",
       "      <td>C20.9</td>\n",
       "      <td>-22666.0</td>\n",
       "      <td>not reported</td>\n",
       "      <td>not reported</td>\n",
       "      <td>C20.9</td>\n",
       "      <td>1288.0</td>\n",
       "      <td>--</td>\n",
       "      <td>--</td>\n",
       "      <td>--</td>\n",
       "    </tr>\n",
       "  </tbody>\n",
       "</table>\n",
       "<p>5 rows × 28 columns</p>\n",
       "</div>"
      ],
      "text/plain": [
       "                                case_id  submitter_id project_id  gender  \\\n",
       "0  d9121e5a-88f2-47a6-a0b1-25735c209e54  TCGA-AH-6644  TCGA-READ    male   \n",
       "1  c69dec57-7a84-481b-bcfe-61a771d0a9d1  TCGA-AG-3602  TCGA-READ  female   \n",
       "2  3f10de1e-c8ce-415e-b4e1-e50901686a2f  TCGA-DT-5265  TCGA-READ    male   \n",
       "3  0b6b1937-4024-4f2c-aeca-46387277755f  TCGA-EF-5830  TCGA-READ    male   \n",
       "4  85947797-54b8-44fb-910b-5cd689542994  TCGA-F5-6571  TCGA-READ  female   \n",
       "\n",
       "  year_of_birth          race               ethnicity year_of_death  \\\n",
       "0          1937         white            not reported            --   \n",
       "1          1941  not reported            not reported            --   \n",
       "2          1959         asian  not hispanic or latino            --   \n",
       "3          1956         white  not hispanic or latino            --   \n",
       "4          1949         white  not hispanic or latino            --   \n",
       "\n",
       "  classification_of_tumor last_known_disease_status         ...           \\\n",
       "0            not reported              not reported         ...            \n",
       "1            not reported              not reported         ...            \n",
       "2            not reported              not reported         ...            \n",
       "3            not reported              not reported         ...            \n",
       "4            not reported              not reported         ...            \n",
       "\n",
       "    tumor_grade tissue_or_organ_of_origin days_to_birth  \\\n",
       "0  not reported                     C19.9      -26892.0   \n",
       "1  not reported                     C19.9      -24350.0   \n",
       "2  not reported                     C20.9      -18669.0   \n",
       "3  not reported                     C20.9      -19802.0   \n",
       "4  not reported                     C20.9      -22666.0   \n",
       "\n",
       "  progression_or_recurrence prior_malignancy site_of_resection_or_biopsy  \\\n",
       "0              not reported     not reported                       C19.9   \n",
       "1              not reported     not reported                       C19.9   \n",
       "2              not reported     not reported                       C20.9   \n",
       "3              not reported     not reported                       C20.9   \n",
       "4              not reported     not reported                       C20.9   \n",
       "\n",
       "  days_to_last_follow_up therapeutic_agents treatment_intent_type  \\\n",
       "0                  838.0                 --                    --   \n",
       "1                    0.0                 --                    --   \n",
       "2                  384.0                 --                    --   \n",
       "3                  106.0                 --                    --   \n",
       "4                 1288.0                 --                    --   \n",
       "\n",
       "  treatment_or_therapy  \n",
       "0                   --  \n",
       "1                   --  \n",
       "2                   --  \n",
       "3                   --  \n",
       "4                   --  \n",
       "\n",
       "[5 rows x 28 columns]"
      ]
     },
     "execution_count": 260,
     "metadata": {},
     "output_type": "execute_result"
    }
   ],
   "source": [
    "clinical.head()"
   ]
  },
  {
   "cell_type": "markdown",
   "metadata": {},
   "source": [
    "More data exploration."
   ]
  },
  {
   "cell_type": "code",
   "execution_count": 261,
   "metadata": {},
   "outputs": [
    {
     "data": {
      "text/plain": [
       "case_id                              False\n",
       "submitter_id                         False\n",
       "project_id                           False\n",
       "gender                               False\n",
       "year_of_birth                        False\n",
       "race                                 False\n",
       "ethnicity                            False\n",
       "year_of_death                        False\n",
       "classification_of_tumor              False\n",
       "last_known_disease_status            False\n",
       "primary_diagnosis                    False\n",
       "tumor_stage                          False\n",
       "age_at_diagnosis                     False\n",
       "vital_status                         False\n",
       "morphology                           False\n",
       "days_to_death                        False\n",
       "days_to_last_known_disease_status    False\n",
       "days_to_recurrence                   False\n",
       "tumor_grade                          False\n",
       "tissue_or_organ_of_origin            False\n",
       "days_to_birth                        False\n",
       "progression_or_recurrence            False\n",
       "prior_malignancy                     False\n",
       "site_of_resection_or_biopsy          False\n",
       "days_to_last_follow_up               False\n",
       "therapeutic_agents                   False\n",
       "treatment_intent_type                False\n",
       "treatment_or_therapy                 False\n",
       "dtype: bool"
      ]
     },
     "execution_count": 261,
     "metadata": {},
     "output_type": "execute_result"
    }
   ],
   "source": [
    "# Check for nulls in the dataset\n",
    "clinical.isnull().any()"
   ]
  },
  {
   "cell_type": "code",
   "execution_count": 262,
   "metadata": {},
   "outputs": [
    {
     "name": "stdout",
     "output_type": "stream",
     "text": [
      "['case_id', 'submitter_id', 'project_id', 'gender', 'year_of_birth', 'race', 'ethnicity', 'year_of_death', 'classification_of_tumor', 'last_known_disease_status', 'primary_diagnosis', 'tumor_stage', 'age_at_diagnosis', 'vital_status', 'morphology', 'days_to_death', 'days_to_last_known_disease_status', 'days_to_recurrence', 'tumor_grade', 'tissue_or_organ_of_origin', 'days_to_birth', 'progression_or_recurrence', 'prior_malignancy', 'site_of_resection_or_biopsy', 'days_to_last_follow_up', 'therapeutic_agents', 'treatment_intent_type', 'treatment_or_therapy']\n"
     ]
    }
   ],
   "source": [
    "print(clinical.columns.tolist())"
   ]
  },
  {
   "cell_type": "markdown",
   "metadata": {},
   "source": [
    "There are lots of columns included that may not be necessary (or useful) in predicting survival. For example, there are several id columns that are not useful for predicting survival. We'll drop case_id and submitter_id to narrow our focus. Year of Birth and Year of Death don't really matter here either. We could potentially factor age into our death analysis, but we're more interested in if we can predict death based on clinical characteristics, not age."
   ]
  },
  {
   "cell_type": "code",
   "execution_count": 263,
   "metadata": {},
   "outputs": [],
   "source": [
    "clinical.drop(columns=[\"case_id\",\"submitter_id\",\"year_of_birth\",\"year_of_death\",\"days_to_birth\"],inplace=True)"
   ]
  },
  {
   "cell_type": "markdown",
   "metadata": {},
   "source": [
    "We'll keep project_id for further exploration later on if the disease type has an effect on survival. Are there other columns we should drop?"
   ]
  },
  {
   "cell_type": "code",
   "execution_count": 264,
   "metadata": {},
   "outputs": [
    {
     "data": {
      "text/html": [
       "<div>\n",
       "<style scoped>\n",
       "    .dataframe tbody tr th:only-of-type {\n",
       "        vertical-align: middle;\n",
       "    }\n",
       "\n",
       "    .dataframe tbody tr th {\n",
       "        vertical-align: top;\n",
       "    }\n",
       "\n",
       "    .dataframe thead th {\n",
       "        text-align: right;\n",
       "    }\n",
       "</style>\n",
       "<table border=\"1\" class=\"dataframe\">\n",
       "  <thead>\n",
       "    <tr style=\"text-align: right;\">\n",
       "      <th></th>\n",
       "      <th>project_id</th>\n",
       "      <th>gender</th>\n",
       "      <th>race</th>\n",
       "      <th>ethnicity</th>\n",
       "      <th>classification_of_tumor</th>\n",
       "      <th>last_known_disease_status</th>\n",
       "      <th>primary_diagnosis</th>\n",
       "      <th>tumor_stage</th>\n",
       "      <th>age_at_diagnosis</th>\n",
       "      <th>vital_status</th>\n",
       "      <th>...</th>\n",
       "      <th>days_to_recurrence</th>\n",
       "      <th>tumor_grade</th>\n",
       "      <th>tissue_or_organ_of_origin</th>\n",
       "      <th>progression_or_recurrence</th>\n",
       "      <th>prior_malignancy</th>\n",
       "      <th>site_of_resection_or_biopsy</th>\n",
       "      <th>days_to_last_follow_up</th>\n",
       "      <th>therapeutic_agents</th>\n",
       "      <th>treatment_intent_type</th>\n",
       "      <th>treatment_or_therapy</th>\n",
       "    </tr>\n",
       "  </thead>\n",
       "  <tbody>\n",
       "    <tr>\n",
       "      <th>count</th>\n",
       "      <td>2596</td>\n",
       "      <td>2596</td>\n",
       "      <td>2596</td>\n",
       "      <td>2596</td>\n",
       "      <td>2596</td>\n",
       "      <td>2596</td>\n",
       "      <td>2596</td>\n",
       "      <td>2596</td>\n",
       "      <td>2596</td>\n",
       "      <td>2596</td>\n",
       "      <td>...</td>\n",
       "      <td>2596</td>\n",
       "      <td>2596</td>\n",
       "      <td>2596</td>\n",
       "      <td>2596</td>\n",
       "      <td>2596</td>\n",
       "      <td>2596</td>\n",
       "      <td>2596</td>\n",
       "      <td>2596</td>\n",
       "      <td>2596</td>\n",
       "      <td>2596</td>\n",
       "    </tr>\n",
       "    <tr>\n",
       "      <th>unique</th>\n",
       "      <td>7</td>\n",
       "      <td>2</td>\n",
       "      <td>5</td>\n",
       "      <td>3</td>\n",
       "      <td>1</td>\n",
       "      <td>1</td>\n",
       "      <td>22</td>\n",
       "      <td>15</td>\n",
       "      <td>2279</td>\n",
       "      <td>2</td>\n",
       "      <td>...</td>\n",
       "      <td>1</td>\n",
       "      <td>1</td>\n",
       "      <td>19</td>\n",
       "      <td>1</td>\n",
       "      <td>1</td>\n",
       "      <td>19</td>\n",
       "      <td>1290</td>\n",
       "      <td>1</td>\n",
       "      <td>1</td>\n",
       "      <td>1</td>\n",
       "    </tr>\n",
       "    <tr>\n",
       "      <th>top</th>\n",
       "      <td>TCGA-KIRC</td>\n",
       "      <td>male</td>\n",
       "      <td>white</td>\n",
       "      <td>not hispanic or latino</td>\n",
       "      <td>not reported</td>\n",
       "      <td>not reported</td>\n",
       "      <td>C64.9</td>\n",
       "      <td>stage i</td>\n",
       "      <td>--</td>\n",
       "      <td>alive</td>\n",
       "      <td>...</td>\n",
       "      <td>--</td>\n",
       "      <td>not reported</td>\n",
       "      <td>C64.9</td>\n",
       "      <td>not reported</td>\n",
       "      <td>not reported</td>\n",
       "      <td>C64.9</td>\n",
       "      <td>--</td>\n",
       "      <td>--</td>\n",
       "      <td>--</td>\n",
       "      <td>--</td>\n",
       "    </tr>\n",
       "    <tr>\n",
       "      <th>freq</th>\n",
       "      <td>537</td>\n",
       "      <td>1572</td>\n",
       "      <td>1808</td>\n",
       "      <td>1731</td>\n",
       "      <td>2596</td>\n",
       "      <td>2596</td>\n",
       "      <td>650</td>\n",
       "      <td>612</td>\n",
       "      <td>49</td>\n",
       "      <td>1825</td>\n",
       "      <td>...</td>\n",
       "      <td>2596</td>\n",
       "      <td>2596</td>\n",
       "      <td>941</td>\n",
       "      <td>2596</td>\n",
       "      <td>2596</td>\n",
       "      <td>941</td>\n",
       "      <td>490</td>\n",
       "      <td>2596</td>\n",
       "      <td>2596</td>\n",
       "      <td>2596</td>\n",
       "    </tr>\n",
       "  </tbody>\n",
       "</table>\n",
       "<p>4 rows × 23 columns</p>\n",
       "</div>"
      ],
      "text/plain": [
       "       project_id gender   race               ethnicity  \\\n",
       "count        2596   2596   2596                    2596   \n",
       "unique          7      2      5                       3   \n",
       "top     TCGA-KIRC   male  white  not hispanic or latino   \n",
       "freq          537   1572   1808                    1731   \n",
       "\n",
       "       classification_of_tumor last_known_disease_status primary_diagnosis  \\\n",
       "count                     2596                      2596              2596   \n",
       "unique                       1                         1                22   \n",
       "top               not reported              not reported             C64.9   \n",
       "freq                      2596                      2596               650   \n",
       "\n",
       "       tumor_stage age_at_diagnosis vital_status         ...           \\\n",
       "count         2596             2596         2596         ...            \n",
       "unique          15             2279            2         ...            \n",
       "top        stage i               --        alive         ...            \n",
       "freq           612               49         1825         ...            \n",
       "\n",
       "       days_to_recurrence   tumor_grade tissue_or_organ_of_origin  \\\n",
       "count                2596          2596                      2596   \n",
       "unique                  1             1                        19   \n",
       "top                    --  not reported                     C64.9   \n",
       "freq                 2596          2596                       941   \n",
       "\n",
       "       progression_or_recurrence prior_malignancy site_of_resection_or_biopsy  \\\n",
       "count                       2596             2596                        2596   \n",
       "unique                         1                1                          19   \n",
       "top                 not reported     not reported                       C64.9   \n",
       "freq                        2596             2596                         941   \n",
       "\n",
       "       days_to_last_follow_up therapeutic_agents treatment_intent_type  \\\n",
       "count                    2596               2596                  2596   \n",
       "unique                   1290                  1                     1   \n",
       "top                        --                 --                    --   \n",
       "freq                      490               2596                  2596   \n",
       "\n",
       "       treatment_or_therapy  \n",
       "count                  2596  \n",
       "unique                    1  \n",
       "top                      --  \n",
       "freq                   2596  \n",
       "\n",
       "[4 rows x 23 columns]"
      ]
     },
     "execution_count": 264,
     "metadata": {},
     "output_type": "execute_result"
    }
   ],
   "source": [
    "clinical.describe()"
   ]
  },
  {
   "cell_type": "markdown",
   "metadata": {},
   "source": [
    "Several columns are mostly or all values of \"not reported\". This is also not helpful for our analysis. Let's drop these columns too."
   ]
  },
  {
   "cell_type": "code",
   "execution_count": 265,
   "metadata": {},
   "outputs": [
    {
     "data": {
      "text/plain": [
       "not reported    2596\n",
       "Name: classification_of_tumor, dtype: int64"
      ]
     },
     "execution_count": 265,
     "metadata": {},
     "output_type": "execute_result"
    }
   ],
   "source": [
    "clinical[\"classification_of_tumor\"].value_counts(dropna=False)"
   ]
  },
  {
   "cell_type": "code",
   "execution_count": 266,
   "metadata": {},
   "outputs": [
    {
     "data": {
      "text/plain": [
       "not reported    2596\n",
       "Name: last_known_disease_status, dtype: int64"
      ]
     },
     "execution_count": 266,
     "metadata": {},
     "output_type": "execute_result"
    }
   ],
   "source": [
    "clinical[\"last_known_disease_status\"].value_counts(dropna=False)"
   ]
  },
  {
   "cell_type": "code",
   "execution_count": 267,
   "metadata": {},
   "outputs": [
    {
     "data": {
      "text/plain": [
       "--    2596\n",
       "Name: days_to_last_known_disease_status, dtype: int64"
      ]
     },
     "execution_count": 267,
     "metadata": {},
     "output_type": "execute_result"
    }
   ],
   "source": [
    "clinical[\"days_to_last_known_disease_status\"].value_counts(dropna=False)"
   ]
  },
  {
   "cell_type": "code",
   "execution_count": 268,
   "metadata": {},
   "outputs": [
    {
     "data": {
      "text/plain": [
       "--    2596\n",
       "Name: days_to_recurrence, dtype: int64"
      ]
     },
     "execution_count": 268,
     "metadata": {},
     "output_type": "execute_result"
    }
   ],
   "source": [
    "clinical[\"days_to_recurrence\"].value_counts(dropna=False)"
   ]
  },
  {
   "cell_type": "code",
   "execution_count": 269,
   "metadata": {},
   "outputs": [
    {
     "data": {
      "text/plain": [
       "not reported    2596\n",
       "Name: tumor_grade, dtype: int64"
      ]
     },
     "execution_count": 269,
     "metadata": {},
     "output_type": "execute_result"
    }
   ],
   "source": [
    "clinical[\"tumor_grade\"].value_counts(dropna=False)"
   ]
  },
  {
   "cell_type": "code",
   "execution_count": 270,
   "metadata": {},
   "outputs": [
    {
     "data": {
      "text/plain": [
       "not reported    2596\n",
       "Name: prior_malignancy, dtype: int64"
      ]
     },
     "execution_count": 270,
     "metadata": {},
     "output_type": "execute_result"
    }
   ],
   "source": [
    "clinical[\"prior_malignancy\"].value_counts(dropna=False)"
   ]
  },
  {
   "cell_type": "code",
   "execution_count": 271,
   "metadata": {},
   "outputs": [
    {
     "data": {
      "text/plain": [
       "--    2596\n",
       "Name: therapeutic_agents, dtype: int64"
      ]
     },
     "execution_count": 271,
     "metadata": {},
     "output_type": "execute_result"
    }
   ],
   "source": [
    "clinical[\"therapeutic_agents\"].value_counts(dropna=False)"
   ]
  },
  {
   "cell_type": "code",
   "execution_count": 272,
   "metadata": {},
   "outputs": [
    {
     "data": {
      "text/plain": [
       "--    2596\n",
       "Name: treatment_intent_type, dtype: int64"
      ]
     },
     "execution_count": 272,
     "metadata": {},
     "output_type": "execute_result"
    }
   ],
   "source": [
    "clinical[\"treatment_intent_type\"].value_counts(dropna=False)"
   ]
  },
  {
   "cell_type": "code",
   "execution_count": 273,
   "metadata": {},
   "outputs": [
    {
     "data": {
      "text/plain": [
       "--    2596\n",
       "Name: treatment_or_therapy, dtype: int64"
      ]
     },
     "execution_count": 273,
     "metadata": {},
     "output_type": "execute_result"
    }
   ],
   "source": [
    "clinical[\"treatment_or_therapy\"].value_counts(dropna=False)"
   ]
  },
  {
   "cell_type": "code",
   "execution_count": 274,
   "metadata": {},
   "outputs": [],
   "source": [
    "clinical.drop(columns=[\"classification_of_tumor\",\"last_known_disease_status\",\"days_to_last_known_disease_status\",\"days_to_recurrence\",\"tumor_grade\",\"progression_or_recurrence\",\"prior_malignancy\",\"therapeutic_agents\",\"treatment_intent_type\",\"treatment_or_therapy\"],inplace=True)"
   ]
  },
  {
   "cell_type": "markdown",
   "metadata": {},
   "source": [
    "One last look to see if we're ready to start investigating the data."
   ]
  },
  {
   "cell_type": "code",
   "execution_count": 275,
   "metadata": {},
   "outputs": [
    {
     "data": {
      "text/html": [
       "<div>\n",
       "<style scoped>\n",
       "    .dataframe tbody tr th:only-of-type {\n",
       "        vertical-align: middle;\n",
       "    }\n",
       "\n",
       "    .dataframe tbody tr th {\n",
       "        vertical-align: top;\n",
       "    }\n",
       "\n",
       "    .dataframe thead th {\n",
       "        text-align: right;\n",
       "    }\n",
       "</style>\n",
       "<table border=\"1\" class=\"dataframe\">\n",
       "  <thead>\n",
       "    <tr style=\"text-align: right;\">\n",
       "      <th></th>\n",
       "      <th>project_id</th>\n",
       "      <th>gender</th>\n",
       "      <th>race</th>\n",
       "      <th>ethnicity</th>\n",
       "      <th>primary_diagnosis</th>\n",
       "      <th>tumor_stage</th>\n",
       "      <th>age_at_diagnosis</th>\n",
       "      <th>vital_status</th>\n",
       "      <th>morphology</th>\n",
       "      <th>days_to_death</th>\n",
       "      <th>tissue_or_organ_of_origin</th>\n",
       "      <th>site_of_resection_or_biopsy</th>\n",
       "      <th>days_to_last_follow_up</th>\n",
       "    </tr>\n",
       "  </thead>\n",
       "  <tbody>\n",
       "    <tr>\n",
       "      <th>count</th>\n",
       "      <td>2596</td>\n",
       "      <td>2596</td>\n",
       "      <td>2596</td>\n",
       "      <td>2596</td>\n",
       "      <td>2596</td>\n",
       "      <td>2596</td>\n",
       "      <td>2596</td>\n",
       "      <td>2596</td>\n",
       "      <td>2596</td>\n",
       "      <td>2596</td>\n",
       "      <td>2596</td>\n",
       "      <td>2596</td>\n",
       "      <td>2596</td>\n",
       "    </tr>\n",
       "    <tr>\n",
       "      <th>unique</th>\n",
       "      <td>7</td>\n",
       "      <td>2</td>\n",
       "      <td>5</td>\n",
       "      <td>3</td>\n",
       "      <td>22</td>\n",
       "      <td>15</td>\n",
       "      <td>2279</td>\n",
       "      <td>2</td>\n",
       "      <td>25</td>\n",
       "      <td>617</td>\n",
       "      <td>19</td>\n",
       "      <td>19</td>\n",
       "      <td>1290</td>\n",
       "    </tr>\n",
       "    <tr>\n",
       "      <th>top</th>\n",
       "      <td>TCGA-KIRC</td>\n",
       "      <td>male</td>\n",
       "      <td>white</td>\n",
       "      <td>not hispanic or latino</td>\n",
       "      <td>C64.9</td>\n",
       "      <td>stage i</td>\n",
       "      <td>--</td>\n",
       "      <td>alive</td>\n",
       "      <td>8140/3</td>\n",
       "      <td>--</td>\n",
       "      <td>C64.9</td>\n",
       "      <td>C64.9</td>\n",
       "      <td>--</td>\n",
       "    </tr>\n",
       "    <tr>\n",
       "      <th>freq</th>\n",
       "      <td>537</td>\n",
       "      <td>1572</td>\n",
       "      <td>1808</td>\n",
       "      <td>1731</td>\n",
       "      <td>650</td>\n",
       "      <td>612</td>\n",
       "      <td>49</td>\n",
       "      <td>1825</td>\n",
       "      <td>848</td>\n",
       "      <td>1835</td>\n",
       "      <td>941</td>\n",
       "      <td>941</td>\n",
       "      <td>490</td>\n",
       "    </tr>\n",
       "  </tbody>\n",
       "</table>\n",
       "</div>"
      ],
      "text/plain": [
       "       project_id gender   race               ethnicity primary_diagnosis  \\\n",
       "count        2596   2596   2596                    2596              2596   \n",
       "unique          7      2      5                       3                22   \n",
       "top     TCGA-KIRC   male  white  not hispanic or latino             C64.9   \n",
       "freq          537   1572   1808                    1731               650   \n",
       "\n",
       "       tumor_stage age_at_diagnosis vital_status morphology days_to_death  \\\n",
       "count         2596             2596         2596       2596          2596   \n",
       "unique          15             2279            2         25           617   \n",
       "top        stage i               --        alive     8140/3            --   \n",
       "freq           612               49         1825        848          1835   \n",
       "\n",
       "       tissue_or_organ_of_origin site_of_resection_or_biopsy  \\\n",
       "count                       2596                        2596   \n",
       "unique                        19                          19   \n",
       "top                        C64.9                       C64.9   \n",
       "freq                         941                         941   \n",
       "\n",
       "       days_to_last_follow_up  \n",
       "count                    2596  \n",
       "unique                   1290  \n",
       "top                        --  \n",
       "freq                      490  "
      ]
     },
     "execution_count": 275,
     "metadata": {},
     "output_type": "execute_result"
    }
   ],
   "source": [
    "clinical.describe()"
   ]
  },
  {
   "cell_type": "code",
   "execution_count": 276,
   "metadata": {
    "scrolled": false
   },
   "outputs": [
    {
     "data": {
      "text/plain": [
       "alive    1825\n",
       "dead      771\n",
       "Name: vital_status, dtype: int64"
      ]
     },
     "execution_count": 276,
     "metadata": {},
     "output_type": "execute_result"
    }
   ],
   "source": [
    "# Vital Status will be the label for this data set. Make sure there are no nulls.\n",
    "clinical.vital_status.value_counts(dropna=False)"
   ]
  },
  {
   "cell_type": "markdown",
   "metadata": {},
   "source": [
    "Now the fun begins. Before we dive into our machine learning models, let's explore the data a bit further."
   ]
  },
  {
   "cell_type": "code",
   "execution_count": 277,
   "metadata": {
    "slideshow": {
     "slide_type": "-"
    }
   },
   "outputs": [
    {
     "data": {
      "image/png": "[encoded data removed]",
      "text/plain": [
       "<matplotlib.figure.Figure at 0x1a0e852c50>"
      ]
     },
     "metadata": {},
     "output_type": "display_data"
    }
   ],
   "source": [
    "# Plot Survival Curve\n",
    "kmf = KaplanMeierFitter()\n",
    "\n",
    "# Let's work with a copy of our cleaned dataframe\n",
    "clinical_survival = clinical.copy()\n",
    "# Create a column with vital status boolean for the kaplan meier fitter\n",
    "clinical_survival[\"vital_status_bool\"] = clinical_survival[\"vital_status\"].str.replace(\"alive\",\"0\").str.replace(\"dead\",\"1\")\n",
    "\n",
    "# Create new event duration column for days to last follow-up survival-flag and days to death death-event\n",
    "clinical_survival['eventDuration'] = \"TODO\"\n",
    "\n",
    "# If the vital status is alive, use days_to_last_followup\n",
    "clinical_survival.loc[clinical_survival[\"vital_status\"] == \"alive\", ['eventDuration']] = clinical_survival[\"days_to_last_follow_up\"]\n",
    "\n",
    "# If the vital status is dead, use days_to_death\n",
    "clinical_survival.loc[clinical_survival[\"vital_status\"] == \"dead\", ['eventDuration']] = clinical_survival[\"days_to_death\"]\n",
    "\n",
    "# Drop any non-numeric columns in eventDuration\n",
    "clinical_survival = clinical_survival[clinical_survival[\"eventDuration\"] != \"--\"]\n",
    "\n",
    "# Prepare KM variables\n",
    "T = clinical_survival[\"eventDuration\"].astype(float)\n",
    "C = clinical_survival[\"vital_status_bool\"].astype(float)\n",
    "\n",
    "kmf.fit(T, event_observed=C)\n",
    "\n",
    "kmf.plot(title='Overall Survival')\n",
    "plt.show()"
   ]
  },
  {
   "cell_type": "markdown",
   "metadata": {},
   "source": [
    "There are several deceased study participants in this dataset. Let's use their clinical characteristics to see if we can predict survival by applying a few different machine learning techniques."
   ]
  },
  {
   "cell_type": "code",
   "execution_count": 278,
   "metadata": {},
   "outputs": [
    {
     "data": {
      "text/plain": [
       "['project_id',\n",
       " 'gender',\n",
       " 'race',\n",
       " 'ethnicity',\n",
       " 'primary_diagnosis',\n",
       " 'tumor_stage',\n",
       " 'age_at_diagnosis',\n",
       " 'morphology',\n",
       " 'days_to_death',\n",
       " 'tissue_or_organ_of_origin',\n",
       " 'site_of_resection_or_biopsy',\n",
       " 'days_to_last_follow_up']"
      ]
     },
     "execution_count": 278,
     "metadata": {},
     "output_type": "execute_result"
    }
   ],
   "source": [
    "# Split into data and targets\n",
    "\n",
    "# These are the targets/labels\n",
    "clinical_y = clinical[\"vital_status\"]\n",
    "\n",
    "# This is the data. Drop columns the labels.\n",
    "clinical_X = clinical.drop(columns=[\"vital_status\"])\n",
    "clinical_X.head(3)\n",
    "clinical_X.columns.tolist()"
   ]
  },
  {
   "cell_type": "code",
   "execution_count": 279,
   "metadata": {},
   "outputs": [
    {
     "data": {
      "text/html": [
       "<div>\n",
       "<style scoped>\n",
       "    .dataframe tbody tr th:only-of-type {\n",
       "        vertical-align: middle;\n",
       "    }\n",
       "\n",
       "    .dataframe tbody tr th {\n",
       "        vertical-align: top;\n",
       "    }\n",
       "\n",
       "    .dataframe thead th {\n",
       "        text-align: right;\n",
       "    }\n",
       "</style>\n",
       "<table border=\"1\" class=\"dataframe\">\n",
       "  <thead>\n",
       "    <tr style=\"text-align: right;\">\n",
       "      <th></th>\n",
       "      <th>project_id_TCGA-COAD</th>\n",
       "      <th>project_id_TCGA-KICH</th>\n",
       "      <th>project_id_TCGA-KIRC</th>\n",
       "      <th>project_id_TCGA-KIRP</th>\n",
       "      <th>project_id_TCGA-LUAD</th>\n",
       "      <th>project_id_TCGA-LUSC</th>\n",
       "      <th>project_id_TCGA-READ</th>\n",
       "      <th>gender_female</th>\n",
       "      <th>gender_male</th>\n",
       "      <th>race_american indian or alaska native</th>\n",
       "      <th>...</th>\n",
       "      <th>days_to_last_follow_up_983.0</th>\n",
       "      <th>days_to_last_follow_up_987.0</th>\n",
       "      <th>days_to_last_follow_up_988.0</th>\n",
       "      <th>days_to_last_follow_up_990.0</th>\n",
       "      <th>days_to_last_follow_up_992.0</th>\n",
       "      <th>days_to_last_follow_up_993.0</th>\n",
       "      <th>days_to_last_follow_up_994.0</th>\n",
       "      <th>days_to_last_follow_up_995.0</th>\n",
       "      <th>days_to_last_follow_up_996.0</th>\n",
       "      <th>days_to_last_follow_up_997.0</th>\n",
       "    </tr>\n",
       "  </thead>\n",
       "  <tbody>\n",
       "    <tr>\n",
       "      <th>0</th>\n",
       "      <td>0</td>\n",
       "      <td>0</td>\n",
       "      <td>0</td>\n",
       "      <td>0</td>\n",
       "      <td>0</td>\n",
       "      <td>0</td>\n",
       "      <td>1</td>\n",
       "      <td>0</td>\n",
       "      <td>1</td>\n",
       "      <td>0</td>\n",
       "      <td>...</td>\n",
       "      <td>0</td>\n",
       "      <td>0</td>\n",
       "      <td>0</td>\n",
       "      <td>0</td>\n",
       "      <td>0</td>\n",
       "      <td>0</td>\n",
       "      <td>0</td>\n",
       "      <td>0</td>\n",
       "      <td>0</td>\n",
       "      <td>0</td>\n",
       "    </tr>\n",
       "    <tr>\n",
       "      <th>1</th>\n",
       "      <td>0</td>\n",
       "      <td>0</td>\n",
       "      <td>0</td>\n",
       "      <td>0</td>\n",
       "      <td>0</td>\n",
       "      <td>0</td>\n",
       "      <td>1</td>\n",
       "      <td>1</td>\n",
       "      <td>0</td>\n",
       "      <td>0</td>\n",
       "      <td>...</td>\n",
       "      <td>0</td>\n",
       "      <td>0</td>\n",
       "      <td>0</td>\n",
       "      <td>0</td>\n",
       "      <td>0</td>\n",
       "      <td>0</td>\n",
       "      <td>0</td>\n",
       "      <td>0</td>\n",
       "      <td>0</td>\n",
       "      <td>0</td>\n",
       "    </tr>\n",
       "    <tr>\n",
       "      <th>2</th>\n",
       "      <td>0</td>\n",
       "      <td>0</td>\n",
       "      <td>0</td>\n",
       "      <td>0</td>\n",
       "      <td>0</td>\n",
       "      <td>0</td>\n",
       "      <td>1</td>\n",
       "      <td>0</td>\n",
       "      <td>1</td>\n",
       "      <td>0</td>\n",
       "      <td>...</td>\n",
       "      <td>0</td>\n",
       "      <td>0</td>\n",
       "      <td>0</td>\n",
       "      <td>0</td>\n",
       "      <td>0</td>\n",
       "      <td>0</td>\n",
       "      <td>0</td>\n",
       "      <td>0</td>\n",
       "      <td>0</td>\n",
       "      <td>0</td>\n",
       "    </tr>\n",
       "  </tbody>\n",
       "</table>\n",
       "<p>3 rows × 4303 columns</p>\n",
       "</div>"
      ],
      "text/plain": [
       "   project_id_TCGA-COAD  project_id_TCGA-KICH  project_id_TCGA-KIRC  \\\n",
       "0                     0                     0                     0   \n",
       "1                     0                     0                     0   \n",
       "2                     0                     0                     0   \n",
       "\n",
       "   project_id_TCGA-KIRP  project_id_TCGA-LUAD  project_id_TCGA-LUSC  \\\n",
       "0                     0                     0                     0   \n",
       "1                     0                     0                     0   \n",
       "2                     0                     0                     0   \n",
       "\n",
       "   project_id_TCGA-READ  gender_female  gender_male  \\\n",
       "0                     1              0            1   \n",
       "1                     1              1            0   \n",
       "2                     1              0            1   \n",
       "\n",
       "   race_american indian or alaska native              ...               \\\n",
       "0                                      0              ...                \n",
       "1                                      0              ...                \n",
       "2                                      0              ...                \n",
       "\n",
       "   days_to_last_follow_up_983.0  days_to_last_follow_up_987.0  \\\n",
       "0                             0                             0   \n",
       "1                             0                             0   \n",
       "2                             0                             0   \n",
       "\n",
       "   days_to_last_follow_up_988.0  days_to_last_follow_up_990.0  \\\n",
       "0                             0                             0   \n",
       "1                             0                             0   \n",
       "2                             0                             0   \n",
       "\n",
       "   days_to_last_follow_up_992.0  days_to_last_follow_up_993.0  \\\n",
       "0                             0                             0   \n",
       "1                             0                             0   \n",
       "2                             0                             0   \n",
       "\n",
       "   days_to_last_follow_up_994.0  days_to_last_follow_up_995.0  \\\n",
       "0                             0                             0   \n",
       "1                             0                             0   \n",
       "2                             0                             0   \n",
       "\n",
       "   days_to_last_follow_up_996.0  days_to_last_follow_up_997.0  \n",
       "0                             0                             0  \n",
       "1                             0                             0  \n",
       "2                             0                             0  \n",
       "\n",
       "[3 rows x 4303 columns]"
      ]
     },
     "execution_count": 279,
     "metadata": {},
     "output_type": "execute_result"
    }
   ],
   "source": [
    "# one hot encoding to recharacterize the categorical data\n",
    "clinical_X = pd.get_dummies(clinical_X)\n",
    "clinical_X.head(3)"
   ]
  },
  {
   "cell_type": "code",
   "execution_count": 280,
   "metadata": {
    "collapsed": true
   },
   "outputs": [],
   "source": [
    "# split data into train and test models\n",
    "X_train, X_test, y_train, y_test = train_test_split(clinical_X, clinical_y, test_size = 0.3, random_state = 0, stratify = clinical_y)"
   ]
  },
  {
   "cell_type": "code",
   "execution_count": 281,
   "metadata": {},
   "outputs": [
    {
     "name": "stdout",
     "output_type": "stream",
     "text": [
      "The accuracy score of the Gaussian Naive Bayes Model is 0.5815147625160462.\n",
      "\n",
      "Classification Report for Gaussian Naive Bayes\n",
      "             precision    recall  f1-score   support\n",
      "\n",
      "      alive       0.99      0.41      0.58       548\n",
      "       dead       0.41      0.99      0.58       231\n",
      "\n",
      "avg / total       0.82      0.58      0.58       779\n",
      "\n"
     ]
    }
   ],
   "source": [
    "# How does Gaussian NB do on this dataset?\n",
    "clf = GaussianNB()\n",
    "nb_model = clf.fit(X_train, y_train)\n",
    "nb_preds = clf.predict(X_test)\n",
    "print(\"The accuracy score of the Gaussian Naive Bayes Model is \" + str(accuracy_score(y_test, nb_preds)) +\".\" + \"\\n\")\n",
    "print(\"Classification Report for Gaussian Naive Bayes\")\n",
    "print(classification_report(y_test, nb_preds, labels=[\"alive\",\"dead\"], target_names=[\"alive\",\"dead\"], sample_weight=None))"
   ]
  },
  {
   "cell_type": "markdown",
   "metadata": {},
   "source": [
    "Running the Gaussian Naive Bayes classifier on this model does not result in a great accuracy score. What about the Decision Tree Classifier?"
   ]
  },
  {
   "cell_type": "code",
   "execution_count": 282,
   "metadata": {},
   "outputs": [
    {
     "name": "stdout",
     "output_type": "stream",
     "text": [
      "The accuracy score of the Decision Tree Classifier is 0.9948652118100129.\n",
      "\n",
      "Classification Report for Decision Tree\n",
      "             precision    recall  f1-score   support\n",
      "\n",
      "      alive       1.00      1.00      1.00       548\n",
      "       dead       0.99      0.99      0.99       231\n",
      "\n",
      "avg / total       0.99      0.99      0.99       779\n",
      "\n"
     ]
    }
   ],
   "source": [
    "tree_clf = DecisionTreeClassifier()\n",
    "dt_model = tree_clf.fit(X_train, y_train)\n",
    "dt_preds = tree_clf.predict(X_test)\n",
    "print(\"The accuracy score of the Decision Tree Classifier is \" + str(accuracy_score(y_test, dt_preds)) +\".\" + \"\\n\")\n",
    "print(\"Classification Report for Decision Tree\")\n",
    "print(classification_report(y_test, dt_preds, labels=[\"alive\",\"dead\"], target_names=[\"alive\",\"dead\"], sample_weight=None, digits=2))"
   ]
  },
  {
   "cell_type": "markdown",
   "metadata": {},
   "source": [
    "The Decision Tree Classifier returns a 0.995 accuracy...which is AWESOME! Let's look a bit further by plotting a Confusion Matrix for the decision tree classification."
   ]
  },
  {
   "cell_type": "code",
   "execution_count": 283,
   "metadata": {},
   "outputs": [
    {
     "data": {
      "image/png": "[encoded data removed]",
      "text/plain": [
       "<matplotlib.figure.Figure at 0x10c17c080>"
      ]
     },
     "metadata": {},
     "output_type": "display_data"
    }
   ],
   "source": [
    "# Plot the confusion matrix\n",
    "\n",
    "class_names = [\"Alive\",\"Dead\"]\n",
    "\n",
    "# Function adapted from sklearn confusion matrix docs\n",
    "\n",
    "def plot_confusion_matrix(cm, classes,\n",
    "                          normalize=False,\n",
    "                          title='Confusion matrix',\n",
    "                          cmap=plt.cm.Oranges):\n",
    "    \"\"\"\n",
    "    This function prints and plots the confusion matrix.\n",
    "    Normalization can be applied by setting `normalize=True`.\n",
    "    \"\"\"\n",
    "\n",
    "    plt.imshow(cm, interpolation='nearest', cmap=cmap)\n",
    "    plt.title(title)\n",
    "    plt.colorbar()\n",
    "    tick_marks = np.arange(len(classes))\n",
    "    plt.xticks(tick_marks, classes, rotation=45)\n",
    "    plt.yticks(tick_marks, classes)\n",
    "\n",
    "    fmt = '.2f' if normalize else 'd'\n",
    "    thresh = cm.max() / 2.\n",
    "    for i, j in itertools.product(range(cm.shape[0]), range(cm.shape[1])):\n",
    "        plt.text(j, i, format(cm[i, j], fmt),\n",
    "                 horizontalalignment=\"center\",\n",
    "                 color=\"white\" if cm[i, j] > thresh else \"black\")\n",
    "\n",
    "    plt.tight_layout()\n",
    "    plt.ylabel('True label')\n",
    "    plt.xlabel('Predicted label')\n",
    "\n",
    "# Compute confusion matrix\n",
    "cnf_matrix = confusion_matrix(y_test, dt_preds)\n",
    "np.set_printoptions(precision=2)\n",
    "\n",
    "# Plot confusion matrix\n",
    "plt.figure()\n",
    "plot_confusion_matrix(cnf_matrix, classes=class_names)\n",
    "plt.show()"
   ]
  },
  {
   "cell_type": "markdown",
   "metadata": {},
   "source": [
    "This is awesome! The Decision Tree Classifier does a great job of predicting vital status across this cancer dataset."
   ]
  }
 ],
 "metadata": {
  "kernelspec": {
   "display_name": "Python 3",
   "language": "python",
   "name": "python3"
  },
  "language_info": {
   "codemirror_mode": {
    "name": "ipython",
    "version": 3
   },
   "file_extension": ".py",
   "mimetype": "text/x-python",
   "name": "python",
   "nbconvert_exporter": "python",
   "pygments_lexer": "ipython3",
   "version": "3.6.3"
  }
 },
 "nbformat": 4,
 "nbformat_minor": 2
}
